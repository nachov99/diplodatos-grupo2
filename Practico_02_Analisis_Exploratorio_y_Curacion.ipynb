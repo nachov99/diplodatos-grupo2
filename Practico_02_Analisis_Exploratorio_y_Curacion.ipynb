{
 "cells": [
  {
   "cell_type": "markdown",
   "id": "e81145dd-38d5-445c-b546-100813934a31",
   "metadata": {},
   "source": [
    "# Práctico 02: Anáslisis Exploratorio y Curación - Resolución"
   ]
  },
  {
   "cell_type": "markdown",
   "id": "2c50ae96-a219-4571-8d95-bbb5d15b2db3",
   "metadata": {},
   "source": [
    "## Importar librerias"
   ]
  },
  {
   "cell_type": "code",
   "execution_count": 1,
   "id": "534f6855-a5d6-44a9-9302-5263d3415a10",
   "metadata": {},
   "outputs": [],
   "source": [
    "import pandas as pd\n",
    "import numpy as np\n",
    "import matplotlib.pyplot as plt\n",
    "import seaborn as sns"
   ]
  },
  {
   "cell_type": "code",
   "execution_count": null,
   "id": "4a818f68-2ef3-497f-92ae-227eedbcc4cd",
   "metadata": {},
   "outputs": [],
   "source": [
    "# Opción para ver todas las columnas del dataset en el notebook\n",
    "pd.set_option('display.max_columns', 50)"
   ]
  },
  {
   "cell_type": "code",
   "execution_count": null,
   "id": "0046b20b-4787-4760-a848-ce6ceb7deec2",
   "metadata": {
    "tags": []
   },
   "outputs": [],
   "source": [
    "df = pd.read_csv('data.csv', sep = \";\")\n",
    "df.head(3)"
   ]
  },
  {
   "cell_type": "markdown",
   "id": "7800f036-bbc3-436c-ac7b-632bf430b6d4",
   "metadata": {},
   "source": [
    "## Análisis de las variables"
   ]
  },
  {
   "cell_type": "markdown",
   "id": "01b15134-0775-496d-9fd9-3b6ee911575a",
   "metadata": {},
   "source": [
    "### Valores nulos"
   ]
  },
  {
   "cell_type": "code",
   "execution_count": null,
   "id": "93b3d5fc-be13-419d-ad7f-404c1ba5a32b",
   "metadata": {},
   "outputs": [],
   "source": [
    "df.isna().sum()"
   ]
  },
  {
   "cell_type": "markdown",
   "id": "a8deec9a-12f9-452f-ae03-a5662e24e162",
   "metadata": {},
   "source": [
    "Si bien el dataset es prolijo en no tener datos faltantes cabe señalar que si indica datos \"desconocidos\":\n",
    "- Job: 330 \"unknown\"\n",
    "- Marital: 80 \"unknown\"\n",
    "- Education: 1731 \"desconocido\"\n",
    "- Default: 8597 \"unknown\"\n",
    "- Housing & loan: 990 \"unknown\" (coinciden las observaciones para ambas variables)"
   ]
  },
  {
   "cell_type": "markdown",
   "id": "5dafb889-1b8c-4824-931d-16cc1f8b1f84",
   "metadata": {},
   "source": [
    "#### Valores unknown"
   ]
  },
  {
   "cell_type": "code",
   "execution_count": null,
   "id": "9700769d-6f93-4281-80ee-377105d76e77",
   "metadata": {},
   "outputs": [],
   "source": [
    "fig, axs = plt.subplots(nrows=3,ncols=2, figsize=(30,30))\n",
    "\n",
    "sns.countplot(data=df, x='job', ax=axs[0,0])\n",
    "sns.countplot(data=df, x='marital', ax=axs[0,1])\n",
    "sns.countplot(data=df, x='education', ax=axs[1,0])\n",
    "sns.countplot(data=df, x='default', ax=axs[1,1])\n",
    "sns.countplot(data=df, x='housing', ax=axs[2,0])\n",
    "sns.countplot(data=df, x='loan', ax=axs[2,1])"
   ]
  },
  {
   "cell_type": "markdown",
   "id": "184f355a-4a1b-406c-b109-98bd656cff0c",
   "metadata": {},
   "source": [
    "### Outliers"
   ]
  },
  {
   "cell_type": "code",
   "execution_count": null,
   "id": "22af4098-3827-40e2-8206-a984f91739e2",
   "metadata": {},
   "outputs": [],
   "source": [
    "fig, axs = plt.subplots(nrows=5,ncols=2, figsize=(30,30))\n",
    "\n",
    "sns.boxplot(data=df, x='duration', ax=axs[0,0])\n",
    "sns.boxplot(data=df, x='duration', showfliers=False, ax=axs[0,1]).set(xlabel='Duartion sin outliers')\n",
    "\n",
    "sns.boxplot(data=df, x='age', ax=axs[1,0])\n",
    "sns.boxplot(data=df, x='age', showfliers=False, ax=axs[1,1]).set(xlabel='Edad sin outliers')\n",
    "\n",
    "sns.boxplot(data=df, x='campaign', ax=axs[2,0])\n",
    "sns.boxplot(data=df, x='campaign', showfliers=False, ax=axs[2,1]).set(xlabel='Campaign sin outliers')\n",
    "\n",
    "sns.boxplot(data=df, x='previous', ax=axs[3,0])\n",
    "sns.boxplot(data=df, x='previous', showfliers=False, ax=axs[3,1]).set(xlabel='Previous sin outliers')\n",
    "\n",
    "sns.boxplot(data=df, x='cons.conf.idx', ax=axs[4,0])\n",
    "sns.boxplot(data=df, x='cons.conf.idx', showfliers=False, ax=axs[4,1]).set(xlabel='cons.conf.idx sin outliers')"
   ]
  },
  {
   "cell_type": "markdown",
   "id": "48044f37-cf78-49e8-8094-802c281a8fec",
   "metadata": {},
   "source": [
    "### Distribuciones de las variables numéricas"
   ]
  },
  {
   "cell_type": "code",
   "execution_count": null,
   "id": "473e50bb-8847-40aa-ac8c-43db9bcdc2ee",
   "metadata": {},
   "outputs": [],
   "source": [
    "fig, axs = plt.subplots(nrows=5,ncols=2, figsize=(30,30))\n",
    "\n",
    "sns.histplot(data=df, x='age', kde=True, ax=axs[0,0])\n",
    "sns.histplot(data=df, x='duration', kde=True, ax=axs[0,1])\n",
    "sns.histplot(data=df, x='campaign', kde=True, ax=axs[1,0])\n",
    "sns.histplot(data=df, x='pdays', kde=True, ax=axs[1,1])\n",
    "sns.histplot(data=df, x='previous', kde=True, ax=axs[2,0])\n",
    "sns.histplot(data=df, x='emp.var.rate', kde=True, ax=axs[2,1])\n",
    "sns.histplot(data=df, x='cons.price.idx', kde=True, ax=axs[3,0])\n",
    "sns.histplot(data=df, x='cons.conf.idx', kde=True, ax=axs[3,1])\n",
    "sns.histplot(data=df, x='euribor3m', kde=True, ax=axs[4,0])\n",
    "sns.histplot(data=df, x='nr.employed', kde=True, ax=axs[4,1])\n"
   ]
  },
  {
   "cell_type": "markdown",
   "id": "503e98fd-a44d-4b6e-91ba-d1c747c0a42e",
   "metadata": {},
   "source": [
    "### Cardinalidad de las variables categóricas"
   ]
  },
  {
   "cell_type": "code",
   "execution_count": null,
   "id": "02fab0e1-22ae-45a2-8eb6-57e6f7edf8d1",
   "metadata": {},
   "outputs": [],
   "source": [
    "fig, axs = plt.subplots(nrows=5,ncols=2, figsize=(30,30))\n",
    "\n",
    "sns.countplot(data=df, x='job', ax=axs[0,0])\n",
    "sns.countplot(data=df, x='marital', ax=axs[0,1])\n",
    "sns.countplot(data=df, x='education', ax=axs[1,0])\n",
    "sns.countplot(data=df, x='default', ax=axs[1,1])\n",
    "sns.countplot(data=df, x='housing', ax=axs[2,0])\n",
    "sns.countplot(data=df, x='loan', ax=axs[2,1])\n",
    "sns.countplot(data=df, x='contact', ax=axs[3,0])\n",
    "sns.countplot(data=df, x='month', ax=axs[3,1])\n",
    "sns.countplot(data=df, x='day_of_week', ax=axs[4,0])\n",
    "sns.countplot(data=df, x='poutcome', ax=axs[4,1])\n"
   ]
  },
  {
   "cell_type": "markdown",
   "id": "c16cb671-21de-42b4-9878-9d3bda1531e1",
   "metadata": {},
   "source": [
    "### Correlación entre las variables"
   ]
  },
  {
   "cell_type": "code",
   "execution_count": null,
   "id": "609f2dd4-7ed4-4479-99b3-e870a75b22f4",
   "metadata": {},
   "outputs": [],
   "source": [
    "# Compute the correlation matrix\n",
    "corr = df.corr()\n",
    "\n",
    "# Generate a mask for the upper triangle\n",
    "mask = np.triu(np.ones_like(corr, dtype=bool))\n",
    "\n",
    "# Set up the matplotlib figure\n",
    "f, ax = plt.subplots(figsize=(11, 9))\n",
    "\n",
    "# Generate a custom diverging colormap\n",
    "cmap = sns.diverging_palette(230, 20, as_cmap=True)\n",
    "\n",
    "# Draw the heatmap with the mask and correct aspect ratio\n",
    "sns.heatmap(corr, mask=mask, cmap=cmap, vmax=.3, center=0,\n",
    "            square=True, linewidths=.5, cbar_kws={\"shrink\": .5})"
   ]
  },
  {
   "cell_type": "markdown",
   "id": "4ce1592a-d968-4946-abb2-db491968d092",
   "metadata": {},
   "source": [
    "## Tratamiento y modificación de las variables"
   ]
  },
  {
   "cell_type": "code",
   "execution_count": null,
   "id": "b37a17a0-a438-4f8f-9a3f-d10582573804",
   "metadata": {},
   "outputs": [],
   "source": []
  },
  {
   "cell_type": "markdown",
   "id": "7dd6f12b-dd68-4801-a239-dd60b0b63113",
   "metadata": {},
   "source": [
    "### Outliers"
   ]
  },
  {
   "cell_type": "code",
   "execution_count": 10,
   "id": "fac9f326-4923-458b-a4ee-41ef5fb8fdde",
   "metadata": {},
   "outputs": [],
   "source": [
    "from scipy.stats import zscore\n",
    "\n",
    "# Elimacion de unicamente los outliers - df\n",
    "def delete_outliers(df, cols):\n",
    "    df = df.copy()\n",
    "    temp = []\n",
    "    df_clean = df.copy()\n",
    "\n",
    "    for c in cols:\n",
    "        z_scores = zscore(df_clean[c])\n",
    "        abs_z_scores = np.abs(z_scores)\n",
    "        filtered_entries = (abs_z_scores < 3)\n",
    "        row_clean = df_clean[filtered_entries][c]\n",
    "        temp.append([c, len(df_clean[c]), len(row_clean), len(df_clean[c]) - len(row_clean), df_clean[c].isna().sum() ])\n",
    "        df_clean = df_clean[filtered_entries]\n",
    "    temp = pd.DataFrame(temp, columns=[\"name\", \"count_values\", \"without_outliers\", \"count_outliers\", \"nan_count\"])\n",
    "\n",
    "    df_with_nan = df[cols][df[cols].isna().any(axis=1)]\n",
    "\n",
    "    df_clean.merge(df_with_nan)\n",
    "\n",
    "    return temp, df_clean\n",
    "\n",
    "# columnas a analizar y eliminar outliers\n",
    "temp, df = delete_outliers(df, ['duration', 'age', 'cons.conf.idx'] )"
   ]
  },
  {
   "cell_type": "code",
   "execution_count": 11,
   "id": "5c95a75e-b021-4f7d-91fe-024e93817aca",
   "metadata": {},
   "outputs": [
    {
     "data": {
      "text/html": [
       "<div>\n",
       "<style scoped>\n",
       "    .dataframe tbody tr th:only-of-type {\n",
       "        vertical-align: middle;\n",
       "    }\n",
       "\n",
       "    .dataframe tbody tr th {\n",
       "        vertical-align: top;\n",
       "    }\n",
       "\n",
       "    .dataframe thead th {\n",
       "        text-align: right;\n",
       "    }\n",
       "</style>\n",
       "<table border=\"1\" class=\"dataframe\">\n",
       "  <thead>\n",
       "    <tr style=\"text-align: right;\">\n",
       "      <th></th>\n",
       "      <th>name</th>\n",
       "      <th>count_values</th>\n",
       "      <th>without_outliers</th>\n",
       "      <th>count_outliers</th>\n",
       "      <th>nan_count</th>\n",
       "    </tr>\n",
       "  </thead>\n",
       "  <tbody>\n",
       "    <tr>\n",
       "      <th>0</th>\n",
       "      <td>duration</td>\n",
       "      <td>41188</td>\n",
       "      <td>40327</td>\n",
       "      <td>861</td>\n",
       "      <td>0</td>\n",
       "    </tr>\n",
       "    <tr>\n",
       "      <th>1</th>\n",
       "      <td>age</td>\n",
       "      <td>40327</td>\n",
       "      <td>39963</td>\n",
       "      <td>364</td>\n",
       "      <td>0</td>\n",
       "    </tr>\n",
       "    <tr>\n",
       "      <th>2</th>\n",
       "      <td>cons.conf.idx</td>\n",
       "      <td>39963</td>\n",
       "      <td>39963</td>\n",
       "      <td>0</td>\n",
       "      <td>0</td>\n",
       "    </tr>\n",
       "  </tbody>\n",
       "</table>\n",
       "</div>"
      ],
      "text/plain": [
       "            name  count_values  without_outliers  count_outliers  nan_count\n",
       "0       duration         41188             40327             861          0\n",
       "1            age         40327             39963             364          0\n",
       "2  cons.conf.idx         39963             39963               0          0"
      ]
     },
     "execution_count": 11,
     "metadata": {},
     "output_type": "execute_result"
    }
   ],
   "source": [
    "temp"
   ]
  },
  {
   "cell_type": "markdown",
   "id": "a174e1d3-33cb-4445-85cb-fae6774de81d",
   "metadata": {},
   "source": [
    "### Distribuciones de las variables numéricas"
   ]
  },
  {
   "cell_type": "markdown",
   "id": "918c5928-53d9-4c07-a79b-e0df635ab375",
   "metadata": {},
   "source": [
    "#### Creación de la variable contactado\n",
    "La variable \"contactado\", determina si el usuario fue previamente contactado o no. Esta conclusión se realizó, porque en la información de atributos dice que los usuarios con pdays = 999, no fueron contactados previamente."
   ]
  },
  {
   "cell_type": "code",
   "execution_count": 12,
   "id": "97b5e364-7f35-456d-b09f-444737e5e75b",
   "metadata": {},
   "outputs": [
    {
     "data": {
      "text/plain": [
       "<AxesSubplot:xlabel='contactado', ylabel='count'>"
      ]
     },
     "execution_count": 12,
     "metadata": {},
     "output_type": "execute_result"
    },
    {
     "data": {
      "image/png": "[encoded data removed]",
      "text/plain": [
       "<Figure size 432x288 with 1 Axes>"
      ]
     },
     "metadata": {
      "needs_background": "light"
     },
     "output_type": "display_data"
    }
   ],
   "source": [
    "def get_contactado(x):\n",
    "    if x >= 999:\n",
    "        return '0'\n",
    "    elif x < 6:\n",
    "        return '1'\n",
    "    elif 5 < x < 11:\n",
    "        return '2'   \n",
    "    else:\n",
    "        return '3'\n",
    "\n",
    "df['contactado'] = df.apply(lambda x: get_contactado(x['pdays']), axis=1)\n",
    "    \n",
    "# Drop de columna pdays\n",
    "df.drop('pdays', axis=1, inplace=True)\n",
    "\n",
    "sns.countplot(data=df, x='contactado')"
   ]
  },
  {
   "cell_type": "markdown",
   "id": "b4c2d431-30a2-44d6-9d64-d918b61b15c5",
   "metadata": {},
   "source": [
    "### Codificación del target"
   ]
  },
  {
   "cell_type": "code",
   "execution_count": 13,
   "id": "8dca7405-a528-4591-9871-67d45adf98cb",
   "metadata": {},
   "outputs": [
    {
     "data": {
      "text/plain": [
       "<AxesSubplot:xlabel='y', ylabel='count'>"
      ]
     },
     "execution_count": 13,
     "metadata": {},
     "output_type": "execute_result"
    },
    {
     "data": {
      "image/png": "[encoded data removed]",
      "text/plain": [
       "<Figure size 432x288 with 1 Axes>"
      ]
     },
     "metadata": {
      "needs_background": "light"
     },
     "output_type": "display_data"
    }
   ],
   "source": [
    "# Transformo la variable target para calcular P-Value\n",
    "def factorize_y(x):\n",
    "    if x == 'no':\n",
    "        return 0\n",
    "    else:\n",
    "        return 1\n",
    "    \n",
    "df['y'] = df.apply(lambda x: factorize_y(x['y']), axis=1)\n",
    "\n",
    "sns.countplot(data=df, x='y')"
   ]
  },
  {
   "cell_type": "markdown",
   "id": "3664aa1b-1c1e-48b9-a519-20b3393d5e96",
   "metadata": {},
   "source": [
    "### Cardinalidad de las variables categóricas"
   ]
  },
  {
   "cell_type": "markdown",
   "id": "70f4068b-3d72-4901-9cbc-4ea376a05d34",
   "metadata": {},
   "source": [
    "#### Educacion"
   ]
  },
  {
   "cell_type": "code",
   "execution_count": 14,
   "id": "d5ce7d68-d36f-4f63-864f-14ba5d4f87e8",
   "metadata": {},
   "outputs": [
    {
     "data": {
      "text/plain": [
       "<AxesSubplot:xlabel='education', ylabel='count'>"
      ]
     },
     "execution_count": 14,
     "metadata": {},
     "output_type": "execute_result"
    },
    {
     "data": {
      "image/png": "[encoded data removed]",
      "text/plain": [
       "<Figure size 504x360 with 1 Axes>"
      ]
     },
     "metadata": {
      "needs_background": "light"
     },
     "output_type": "display_data"
    }
   ],
   "source": [
    "df.education.replace({'unknown': 'unknown',\n",
    "            'illiterate': 'ninguno',\n",
    "            'basic.4y': 'primario',\n",
    "           'basic.6y':'primario',\n",
    "           'basic.9y': 'primario',\n",
    "           'high.school':'secundario',\n",
    "           'professional.course':'terciario',\n",
    "           'university.degree':'universitario'}, inplace=True)\n",
    "\n",
    "fig, axs = plt.subplots(figsize=(7,5))\n",
    "sns.countplot(data=df, x='education')"
   ]
  },
  {
   "cell_type": "markdown",
   "id": "df5ccb5e-8d91-4fbb-9abd-19280b7946cd",
   "metadata": {},
   "source": [
    "#### Productos financieros"
   ]
  },
  {
   "cell_type": "code",
   "execution_count": 15,
   "id": "73ce1e68-49f1-4ef8-9004-ef77dd6597bb",
   "metadata": {},
   "outputs": [
    {
     "data": {
      "text/plain": [
       "<AxesSubplot:xlabel='productos_financieros', ylabel='count'>"
      ]
     },
     "execution_count": 15,
     "metadata": {},
     "output_type": "execute_result"
    },
    {
     "data": {
      "image/png": "[encoded data removed]",
      "text/plain": [
       "<Figure size 504x360 with 1 Axes>"
      ]
     },
     "metadata": {
      "needs_background": "light"
     },
     "output_type": "display_data"
    }
   ],
   "source": [
    "def productos_financieros(x):\n",
    "    if x.loan == 'yes' or x.housing == 'yes':\n",
    "        return 'yes'\n",
    "    elif x.loan == 'unknown' or x.housing == 'unknown':\n",
    "        return 'unknown'\n",
    "    else:\n",
    "        return 'no'\n",
    "    \n",
    "# Creamos esta columna para ver si el usuario adquirio productos financieros\n",
    "df['productos_financieros'] = df.apply(lambda x: productos_financieros(x), axis=1)\n",
    "\n",
    "# Drop de columnas loan y housing\n",
    "df.drop(['loan', 'housing'], axis=1, inplace=True)\n",
    "\n",
    "fig, axs = plt.subplots(figsize=(7,5))\n",
    "sns.countplot(data=df, x='productos_financieros')"
   ]
  },
  {
   "cell_type": "markdown",
   "id": "36fccd28-4121-48c5-98c8-3941246f793b",
   "metadata": {
    "tags": []
   },
   "source": [
    "#### Dummeo de variables categoricas\n",
    "Se dummean las variables categoricas para poder utilizar el modelo XGBoost, ya que, solamente acepta variables numericas."
   ]
  },
  {
   "cell_type": "code",
   "execution_count": 16,
   "id": "66399bd3-2e8a-4fb1-9723-65b7c229c959",
   "metadata": {},
   "outputs": [
    {
     "data": {
      "text/html": [
       "<div>\n",
       "<style scoped>\n",
       "    .dataframe tbody tr th:only-of-type {\n",
       "        vertical-align: middle;\n",
       "    }\n",
       "\n",
       "    .dataframe tbody tr th {\n",
       "        vertical-align: top;\n",
       "    }\n",
       "\n",
       "    .dataframe thead th {\n",
       "        text-align: right;\n",
       "    }\n",
       "</style>\n",
       "<table border=\"1\" class=\"dataframe\">\n",
       "  <thead>\n",
       "    <tr style=\"text-align: right;\">\n",
       "      <th></th>\n",
       "      <th>age</th>\n",
       "      <th>duration</th>\n",
       "      <th>campaign</th>\n",
       "      <th>previous</th>\n",
       "      <th>emp.var.rate</th>\n",
       "      <th>cons.price.idx</th>\n",
       "      <th>cons.conf.idx</th>\n",
       "      <th>euribor3m</th>\n",
       "      <th>nr.employed</th>\n",
       "      <th>y</th>\n",
       "      <th>job_blue-collar</th>\n",
       "      <th>job_entrepreneur</th>\n",
       "      <th>job_housemaid</th>\n",
       "      <th>job_management</th>\n",
       "      <th>job_retired</th>\n",
       "      <th>job_self-employed</th>\n",
       "      <th>job_services</th>\n",
       "      <th>job_student</th>\n",
       "      <th>job_technician</th>\n",
       "      <th>job_unemployed</th>\n",
       "      <th>job_unknown</th>\n",
       "      <th>marital_married</th>\n",
       "      <th>marital_single</th>\n",
       "      <th>marital_unknown</th>\n",
       "      <th>education_primario</th>\n",
       "      <th>education_secundario</th>\n",
       "      <th>education_terciario</th>\n",
       "      <th>education_universitario</th>\n",
       "      <th>education_unknown</th>\n",
       "      <th>default_unknown</th>\n",
       "      <th>default_yes</th>\n",
       "      <th>contact_telephone</th>\n",
       "      <th>month_aug</th>\n",
       "      <th>month_dec</th>\n",
       "      <th>month_jul</th>\n",
       "      <th>month_jun</th>\n",
       "      <th>month_mar</th>\n",
       "      <th>month_may</th>\n",
       "      <th>month_nov</th>\n",
       "      <th>month_oct</th>\n",
       "      <th>month_sep</th>\n",
       "      <th>day_of_week_mon</th>\n",
       "      <th>day_of_week_thu</th>\n",
       "      <th>day_of_week_tue</th>\n",
       "      <th>day_of_week_wed</th>\n",
       "      <th>poutcome_nonexistent</th>\n",
       "      <th>poutcome_success</th>\n",
       "      <th>contactado_SI</th>\n",
       "      <th>productos_financieros_unknown</th>\n",
       "      <th>productos_financieros_yes</th>\n",
       "    </tr>\n",
       "  </thead>\n",
       "  <tbody>\n",
       "    <tr>\n",
       "      <th>0</th>\n",
       "      <td>56</td>\n",
       "      <td>261</td>\n",
       "      <td>1</td>\n",
       "      <td>0</td>\n",
       "      <td>1.1</td>\n",
       "      <td>93.994</td>\n",
       "      <td>-36.4</td>\n",
       "      <td>4.857</td>\n",
       "      <td>5191.0</td>\n",
       "      <td>0</td>\n",
       "      <td>0</td>\n",
       "      <td>0</td>\n",
       "      <td>1</td>\n",
       "      <td>0</td>\n",
       "      <td>0</td>\n",
       "      <td>0</td>\n",
       "      <td>0</td>\n",
       "      <td>0</td>\n",
       "      <td>0</td>\n",
       "      <td>0</td>\n",
       "      <td>0</td>\n",
       "      <td>1</td>\n",
       "      <td>0</td>\n",
       "      <td>0</td>\n",
       "      <td>1</td>\n",
       "      <td>0</td>\n",
       "      <td>0</td>\n",
       "      <td>0</td>\n",
       "      <td>0</td>\n",
       "      <td>0</td>\n",
       "      <td>0</td>\n",
       "      <td>1</td>\n",
       "      <td>0</td>\n",
       "      <td>0</td>\n",
       "      <td>0</td>\n",
       "      <td>0</td>\n",
       "      <td>0</td>\n",
       "      <td>1</td>\n",
       "      <td>0</td>\n",
       "      <td>0</td>\n",
       "      <td>0</td>\n",
       "      <td>1</td>\n",
       "      <td>0</td>\n",
       "      <td>0</td>\n",
       "      <td>0</td>\n",
       "      <td>1</td>\n",
       "      <td>0</td>\n",
       "      <td>0</td>\n",
       "      <td>0</td>\n",
       "      <td>0</td>\n",
       "    </tr>\n",
       "    <tr>\n",
       "      <th>1</th>\n",
       "      <td>57</td>\n",
       "      <td>149</td>\n",
       "      <td>1</td>\n",
       "      <td>0</td>\n",
       "      <td>1.1</td>\n",
       "      <td>93.994</td>\n",
       "      <td>-36.4</td>\n",
       "      <td>4.857</td>\n",
       "      <td>5191.0</td>\n",
       "      <td>0</td>\n",
       "      <td>0</td>\n",
       "      <td>0</td>\n",
       "      <td>0</td>\n",
       "      <td>0</td>\n",
       "      <td>0</td>\n",
       "      <td>0</td>\n",
       "      <td>1</td>\n",
       "      <td>0</td>\n",
       "      <td>0</td>\n",
       "      <td>0</td>\n",
       "      <td>0</td>\n",
       "      <td>1</td>\n",
       "      <td>0</td>\n",
       "      <td>0</td>\n",
       "      <td>0</td>\n",
       "      <td>1</td>\n",
       "      <td>0</td>\n",
       "      <td>0</td>\n",
       "      <td>0</td>\n",
       "      <td>1</td>\n",
       "      <td>0</td>\n",
       "      <td>1</td>\n",
       "      <td>0</td>\n",
       "      <td>0</td>\n",
       "      <td>0</td>\n",
       "      <td>0</td>\n",
       "      <td>0</td>\n",
       "      <td>1</td>\n",
       "      <td>0</td>\n",
       "      <td>0</td>\n",
       "      <td>0</td>\n",
       "      <td>1</td>\n",
       "      <td>0</td>\n",
       "      <td>0</td>\n",
       "      <td>0</td>\n",
       "      <td>1</td>\n",
       "      <td>0</td>\n",
       "      <td>0</td>\n",
       "      <td>0</td>\n",
       "      <td>0</td>\n",
       "    </tr>\n",
       "    <tr>\n",
       "      <th>2</th>\n",
       "      <td>37</td>\n",
       "      <td>226</td>\n",
       "      <td>1</td>\n",
       "      <td>0</td>\n",
       "      <td>1.1</td>\n",
       "      <td>93.994</td>\n",
       "      <td>-36.4</td>\n",
       "      <td>4.857</td>\n",
       "      <td>5191.0</td>\n",
       "      <td>0</td>\n",
       "      <td>0</td>\n",
       "      <td>0</td>\n",
       "      <td>0</td>\n",
       "      <td>0</td>\n",
       "      <td>0</td>\n",
       "      <td>0</td>\n",
       "      <td>1</td>\n",
       "      <td>0</td>\n",
       "      <td>0</td>\n",
       "      <td>0</td>\n",
       "      <td>0</td>\n",
       "      <td>1</td>\n",
       "      <td>0</td>\n",
       "      <td>0</td>\n",
       "      <td>0</td>\n",
       "      <td>1</td>\n",
       "      <td>0</td>\n",
       "      <td>0</td>\n",
       "      <td>0</td>\n",
       "      <td>0</td>\n",
       "      <td>0</td>\n",
       "      <td>1</td>\n",
       "      <td>0</td>\n",
       "      <td>0</td>\n",
       "      <td>0</td>\n",
       "      <td>0</td>\n",
       "      <td>0</td>\n",
       "      <td>1</td>\n",
       "      <td>0</td>\n",
       "      <td>0</td>\n",
       "      <td>0</td>\n",
       "      <td>1</td>\n",
       "      <td>0</td>\n",
       "      <td>0</td>\n",
       "      <td>0</td>\n",
       "      <td>1</td>\n",
       "      <td>0</td>\n",
       "      <td>0</td>\n",
       "      <td>0</td>\n",
       "      <td>1</td>\n",
       "    </tr>\n",
       "    <tr>\n",
       "      <th>3</th>\n",
       "      <td>40</td>\n",
       "      <td>151</td>\n",
       "      <td>1</td>\n",
       "      <td>0</td>\n",
       "      <td>1.1</td>\n",
       "      <td>93.994</td>\n",
       "      <td>-36.4</td>\n",
       "      <td>4.857</td>\n",
       "      <td>5191.0</td>\n",
       "      <td>0</td>\n",
       "      <td>0</td>\n",
       "      <td>0</td>\n",
       "      <td>0</td>\n",
       "      <td>0</td>\n",
       "      <td>0</td>\n",
       "      <td>0</td>\n",
       "      <td>0</td>\n",
       "      <td>0</td>\n",
       "      <td>0</td>\n",
       "      <td>0</td>\n",
       "      <td>0</td>\n",
       "      <td>1</td>\n",
       "      <td>0</td>\n",
       "      <td>0</td>\n",
       "      <td>1</td>\n",
       "      <td>0</td>\n",
       "      <td>0</td>\n",
       "      <td>0</td>\n",
       "      <td>0</td>\n",
       "      <td>0</td>\n",
       "      <td>0</td>\n",
       "      <td>1</td>\n",
       "      <td>0</td>\n",
       "      <td>0</td>\n",
       "      <td>0</td>\n",
       "      <td>0</td>\n",
       "      <td>0</td>\n",
       "      <td>1</td>\n",
       "      <td>0</td>\n",
       "      <td>0</td>\n",
       "      <td>0</td>\n",
       "      <td>1</td>\n",
       "      <td>0</td>\n",
       "      <td>0</td>\n",
       "      <td>0</td>\n",
       "      <td>1</td>\n",
       "      <td>0</td>\n",
       "      <td>0</td>\n",
       "      <td>0</td>\n",
       "      <td>0</td>\n",
       "    </tr>\n",
       "    <tr>\n",
       "      <th>4</th>\n",
       "      <td>56</td>\n",
       "      <td>307</td>\n",
       "      <td>1</td>\n",
       "      <td>0</td>\n",
       "      <td>1.1</td>\n",
       "      <td>93.994</td>\n",
       "      <td>-36.4</td>\n",
       "      <td>4.857</td>\n",
       "      <td>5191.0</td>\n",
       "      <td>0</td>\n",
       "      <td>0</td>\n",
       "      <td>0</td>\n",
       "      <td>0</td>\n",
       "      <td>0</td>\n",
       "      <td>0</td>\n",
       "      <td>0</td>\n",
       "      <td>1</td>\n",
       "      <td>0</td>\n",
       "      <td>0</td>\n",
       "      <td>0</td>\n",
       "      <td>0</td>\n",
       "      <td>1</td>\n",
       "      <td>0</td>\n",
       "      <td>0</td>\n",
       "      <td>0</td>\n",
       "      <td>1</td>\n",
       "      <td>0</td>\n",
       "      <td>0</td>\n",
       "      <td>0</td>\n",
       "      <td>0</td>\n",
       "      <td>0</td>\n",
       "      <td>1</td>\n",
       "      <td>0</td>\n",
       "      <td>0</td>\n",
       "      <td>0</td>\n",
       "      <td>0</td>\n",
       "      <td>0</td>\n",
       "      <td>1</td>\n",
       "      <td>0</td>\n",
       "      <td>0</td>\n",
       "      <td>0</td>\n",
       "      <td>1</td>\n",
       "      <td>0</td>\n",
       "      <td>0</td>\n",
       "      <td>0</td>\n",
       "      <td>1</td>\n",
       "      <td>0</td>\n",
       "      <td>0</td>\n",
       "      <td>0</td>\n",
       "      <td>1</td>\n",
       "    </tr>\n",
       "  </tbody>\n",
       "</table>\n",
       "</div>"
      ],
      "text/plain": [
       "   age  duration  campaign  previous  emp.var.rate  cons.price.idx  \\\n",
       "0   56       261         1         0           1.1          93.994   \n",
       "1   57       149         1         0           1.1          93.994   \n",
       "2   37       226         1         0           1.1          93.994   \n",
       "3   40       151         1         0           1.1          93.994   \n",
       "4   56       307         1         0           1.1          93.994   \n",
       "\n",
       "   cons.conf.idx  euribor3m  nr.employed  y  job_blue-collar  \\\n",
       "0          -36.4      4.857       5191.0  0                0   \n",
       "1          -36.4      4.857       5191.0  0                0   \n",
       "2          -36.4      4.857       5191.0  0                0   \n",
       "3          -36.4      4.857       5191.0  0                0   \n",
       "4          -36.4      4.857       5191.0  0                0   \n",
       "\n",
       "   job_entrepreneur  job_housemaid  job_management  job_retired  \\\n",
       "0                 0              1               0            0   \n",
       "1                 0              0               0            0   \n",
       "2                 0              0               0            0   \n",
       "3                 0              0               0            0   \n",
       "4                 0              0               0            0   \n",
       "\n",
       "   job_self-employed  job_services  job_student  job_technician  \\\n",
       "0                  0             0            0               0   \n",
       "1                  0             1            0               0   \n",
       "2                  0             1            0               0   \n",
       "3                  0             0            0               0   \n",
       "4                  0             1            0               0   \n",
       "\n",
       "   job_unemployed  job_unknown  marital_married  marital_single  \\\n",
       "0               0            0                1               0   \n",
       "1               0            0                1               0   \n",
       "2               0            0                1               0   \n",
       "3               0            0                1               0   \n",
       "4               0            0                1               0   \n",
       "\n",
       "   marital_unknown  education_primario  education_secundario  \\\n",
       "0                0                   1                     0   \n",
       "1                0                   0                     1   \n",
       "2                0                   0                     1   \n",
       "3                0                   1                     0   \n",
       "4                0                   0                     1   \n",
       "\n",
       "   education_terciario  education_universitario  education_unknown  \\\n",
       "0                    0                        0                  0   \n",
       "1                    0                        0                  0   \n",
       "2                    0                        0                  0   \n",
       "3                    0                        0                  0   \n",
       "4                    0                        0                  0   \n",
       "\n",
       "   default_unknown  default_yes  contact_telephone  month_aug  month_dec  \\\n",
       "0                0            0                  1          0          0   \n",
       "1                1            0                  1          0          0   \n",
       "2                0            0                  1          0          0   \n",
       "3                0            0                  1          0          0   \n",
       "4                0            0                  1          0          0   \n",
       "\n",
       "   month_jul  month_jun  month_mar  month_may  month_nov  month_oct  \\\n",
       "0          0          0          0          1          0          0   \n",
       "1          0          0          0          1          0          0   \n",
       "2          0          0          0          1          0          0   \n",
       "3          0          0          0          1          0          0   \n",
       "4          0          0          0          1          0          0   \n",
       "\n",
       "   month_sep  day_of_week_mon  day_of_week_thu  day_of_week_tue  \\\n",
       "0          0                1                0                0   \n",
       "1          0                1                0                0   \n",
       "2          0                1                0                0   \n",
       "3          0                1                0                0   \n",
       "4          0                1                0                0   \n",
       "\n",
       "   day_of_week_wed  poutcome_nonexistent  poutcome_success  contactado_SI  \\\n",
       "0                0                     1                 0              0   \n",
       "1                0                     1                 0              0   \n",
       "2                0                     1                 0              0   \n",
       "3                0                     1                 0              0   \n",
       "4                0                     1                 0              0   \n",
       "\n",
       "   productos_financieros_unknown  productos_financieros_yes  \n",
       "0                              0                          0  \n",
       "1                              0                          0  \n",
       "2                              0                          1  \n",
       "3                              0                          0  \n",
       "4                              0                          1  "
      ]
     },
     "execution_count": 16,
     "metadata": {},
     "output_type": "execute_result"
    }
   ],
   "source": [
    "df = pd.get_dummies(df, drop_first=True)\n",
    "df.head()"
   ]
  },
  {
   "cell_type": "markdown",
   "id": "c2690d13-cc3e-4937-b94f-8488769129b4",
   "metadata": {},
   "source": [
    "### Correlacion entre variables\n",
    "\n",
    "Drop de las variables \"emp.var.rate\", \"cons.price.idx\", \"cons.conf.idx\", \"nr.employed\". Esto se realiza porque nos quedamos solamente con la variable macroeconómica \"euribor3m\", ya que, es la variable del grupo más influyente en la decisión de venta del activo financiero en cuestión."
   ]
  },
  {
   "cell_type": "code",
   "execution_count": 17,
   "id": "13d76d3d-ec0e-42d6-889a-5b6a215494b1",
   "metadata": {},
   "outputs": [],
   "source": [
    "df.drop([\"emp.var.rate\", \"cons.price.idx\", \"cons.conf.idx\", \"nr.employed\"], axis=1, inplace=True)"
   ]
  },
  {
   "cell_type": "markdown",
   "id": "ea5b4ee8-894b-44f4-9343-ee1a527d2c73",
   "metadata": {},
   "source": [
    "### Guardar el dataset final"
   ]
  },
  {
   "cell_type": "code",
   "execution_count": 18,
   "id": "83bab948-2abf-43cf-8366-761c778cc4ed",
   "metadata": {},
   "outputs": [],
   "source": [
    "df.to_parquet('data_preprocessed.parquet', index=False)"
   ]
  }
 ],
 "metadata": {
  "kernelspec": {
   "display_name": "Python 3 (ipykernel)",
   "language": "python",
   "name": "python3"
  },
  "language_info": {
   "codemirror_mode": {
    "name": "ipython",
    "version": 3
   },
   "file_extension": ".py",
   "mimetype": "text/x-python",
   "name": "python",
   "nbconvert_exporter": "python",
   "pygments_lexer": "ipython3",
   "version": "3.8.10"
  }
 },
 "nbformat": 4,
 "nbformat_minor": 5
}
